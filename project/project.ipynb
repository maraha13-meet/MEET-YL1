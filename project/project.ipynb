{
 "metadata": {
  "name": ""
 },
 "nbformat": 3,
 "nbformat_minor": 0,
 "worksheets": [
  {
   "cells": [
    {
     "cell_type": "code",
     "collapsed": false,
     "input": [
      "import csv"
     ],
     "language": "python",
     "metadata": {},
     "outputs": [],
     "prompt_number": 28
    },
    {
     "cell_type": "code",
     "collapsed": false,
     "input": [
      "f = open('protein.csv', 'rb')\n",
      "reader = csv.reader(f)\n",
      "rownum = 0 \n",
      "for row in reader:\n",
      "    if rownum != 0:\n",
      "        b = row[0]\n",
      "        c = b.split()\n",
      "        d = [ c[0]]\n",
      "        e = map(float, c[1:])\n",
      "        d.extend(e)\n",
      "        print d\n",
      "    rownum =+ 1\n",
      "    \n",
      "f.close()    "
     ],
     "language": "python",
     "metadata": {},
     "outputs": [
      {
       "ename": "IndexError",
       "evalue": "list index out of range",
       "output_type": "pyerr",
       "traceback": [
        "\u001b[1;31m---------------------------------------------------------------------------\u001b[0m\n\u001b[1;31mIndexError\u001b[0m                                Traceback (most recent call last)",
        "\u001b[1;32m<ipython-input-41-68a667627027>\u001b[0m in \u001b[0;36m<module>\u001b[1;34m()\u001b[0m\n\u001b[0;32m      4\u001b[0m \u001b[1;32mfor\u001b[0m \u001b[0mrow\u001b[0m \u001b[1;32min\u001b[0m \u001b[0mreader\u001b[0m\u001b[1;33m:\u001b[0m\u001b[1;33m\u001b[0m\u001b[0m\n\u001b[0;32m      5\u001b[0m     \u001b[1;32mif\u001b[0m \u001b[0mrownum\u001b[0m \u001b[1;33m!=\u001b[0m \u001b[1;36m0\u001b[0m\u001b[1;33m:\u001b[0m\u001b[1;33m\u001b[0m\u001b[0m\n\u001b[1;32m----> 6\u001b[1;33m         \u001b[0mb\u001b[0m \u001b[1;33m=\u001b[0m \u001b[0mrow\u001b[0m\u001b[1;33m[\u001b[0m\u001b[1;36m0\u001b[0m\u001b[1;33m]\u001b[0m\u001b[1;33m\u001b[0m\u001b[0m\n\u001b[0m\u001b[0;32m      7\u001b[0m         \u001b[0mc\u001b[0m \u001b[1;33m=\u001b[0m \u001b[0mb\u001b[0m\u001b[1;33m.\u001b[0m\u001b[0msplit\u001b[0m\u001b[1;33m(\u001b[0m\u001b[1;33m)\u001b[0m\u001b[1;33m\u001b[0m\u001b[0m\n\u001b[0;32m      8\u001b[0m         \u001b[0md\u001b[0m \u001b[1;33m=\u001b[0m \u001b[1;33m[\u001b[0m \u001b[0mc\u001b[0m\u001b[1;33m[\u001b[0m\u001b[1;36m0\u001b[0m\u001b[1;33m]\u001b[0m\u001b[1;33m]\u001b[0m\u001b[1;33m\u001b[0m\u001b[0m\n",
        "\u001b[1;31mIndexError\u001b[0m: list index out of range"
       ]
      },
      {
       "output_type": "stream",
       "stream": "stdout",
       "text": [
        "['Albania', 10.1, 1.4, 0.5, 8.9, 0.2, 42.3, 0.6, 5.5, 1.7]\n",
        "['Austria', 8.9, 14.0, 4.3, 19.9, 2.1, 28.0, 3.6, 1.3, 4.3]\n",
        "['Belgium', 13.5, 9.3, 4.1, 17.5, 4.5, 26.6, 5.7, 2.1, 4.0]\n",
        "['Bulgaria', 7.8, 6.0, 1.6, 8.3, 1.2, 56.7, 1.1, 3.7, 4.2]\n",
        "['Czechoslovakia', 9.7, 11.4, 2.8, 12.5, 2.0, 34.3, 5.0, 1.1, 4.0]\n",
        "['Denmark', 10.6, 10.8, 3.7, 25.0, 9.9, 21.9, 4.8, 0.7, 2.4]\n",
        "['EGermany', 8.4, 11.6, 3.7, 11.1, 5.4, 24.6, 6.5, 0.8, 3.6]\n",
        "['Finland', 9.5, 4.9, 2.7, 33.7, 5.8, 26.3, 5.1, 1.0, 1.4]\n",
        "['France', 18.0, 9.9, 3.3, 19.5, 5.7, 28.1, 4.8, 2.4, 6.5]\n",
        "['Greece', 10.2, 3.0, 2.8, 17.6, 5.9, 41.7, 2.2, 7.8, 6.5]\n",
        "['Hungary', 5.3, 12.4, 2.9, 9.7, 0.3, 40.1, 4.0, 5.4, 4.2]\n",
        "['Ireland', 13.9, 10.0, 4.7, 25.8, 2.2, 24.0, 6.2, 1.6, 2.9]\n",
        "['Italy', 9.0, 5.1, 2.9, 13.7, 3.4, 36.8, 2.1, 4.3, 6.7]\n",
        "['Netherlands', 9.5, 13.6, 3.6, 23.4, 2.5, 22.4, 4.2, 1.8, 3.7]\n",
        "['Norway', 9.4, 4.7, 2.7, 23.3, 9.7, 23.0, 4.6, 1.6, 2.7]\n",
        "['Poland', 6.9, 10.2, 2.7, 19.3, 3.0, 36.1, 5.9, 2.0, 6.6]\n",
        "['Portugal', 6.2, 3.7, 1.1, 4.9, 14.2, 27.0, 5.9, 4.7, 7.9]\n",
        "['Romania', 6.2, 6.3, 1.5, 11.1, 1.0, 49.6, 3.1, 5.3, 2.8]\n",
        "['Spain', 7.1, 3.4, 3.1, 8.6, 7.0, 29.2, 5.7, 5.9, 7.2]\n",
        "['Sweden', 9.9, 7.8, 3.5, 24.7, 7.5, 19.5, 3.7, 1.4, 2.0]\n",
        "['Switzerland', 13.1, 10.1, 3.1, 23.8, 2.3, 25.6, 2.8, 2.4, 4.9]\n",
        "['UK', 17.4, 5.7, 4.7, 20.6, 4.3, 24.3, 4.7, 3.4, 3.3]\n",
        "['USSR', 9.3, 4.6, 2.1, 16.6, 3.0, 43.6, 6.4, 3.4, 2.9]\n",
        "['WGermany', 11.4, 12.5, 4.1, 18.8, 3.4, 18.6, 5.2, 1.5, 3.8]\n",
        "['Yugoslavia', 4.4, 5.0, 1.2, 9.5, 0.6, 55.9, 3.0, 5.7, 3.2]\n"
       ]
      }
     ],
     "prompt_number": 41
    }
   ],
   "metadata": {}
  }
 ]
}