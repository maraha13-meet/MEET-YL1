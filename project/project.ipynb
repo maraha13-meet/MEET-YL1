{
 "metadata": {
  "name": ""
 },
 "nbformat": 3,
 "nbformat_minor": 0,
 "worksheets": [
  {
   "cells": [
    {
     "cell_type": "code",
     "collapsed": false,
     "input": [
      "f = open('protein.csv', 'rb')\n",
      "reader = csv.reader(f)\n",
      "\n",
      "rownum = 0\n",
      "whiteMeat = []\n",
      "country = []\n",
      "\n",
      "for row in reader:\n",
      "    if rownum != 0 and rownum < 25:\n",
      "        a = row[0]\n",
      "        c = a.split()\n",
      "        d = [c[0]]\n",
      "        e = map(float, c[1:])\n",
      "        d.extend(e)\n",
      "        whiteMeat.append(d[2])\n",
      "        country.append(d[0])\n",
      "    rownum += 1\n",
      "    \n",
      "\n",
      "print whiteMeat\n",
      "print country\n",
      "\n",
      "\n",
      "f.close"
     ],
     "language": "python",
     "metadata": {},
     "outputs": [
      {
       "output_type": "stream",
       "stream": "stdout",
       "text": [
        "[1.4, 14.0, 9.3, 6.0, 11.4, 10.8, 11.6, 4.9, 9.9, 3.0, 12.4, 10.0, 5.1, 13.6, 4.7, 10.2, 3.7, 6.3, 3.4, 7.8, 10.1, 5.7, 4.6, 12.5]\n",
        "['Albania', 'Austria', 'Belgium', 'Bulgaria', 'Czechoslovakia', 'Denmark', 'EGermany', 'Finland', 'France', 'Greece', 'Hungary', 'Ireland', 'Italy', 'Netherlands', 'Norway', 'Poland', 'Portugal', 'Romania', 'Spain', 'Sweden', 'Switzerland', 'UK', 'USSR', 'WGermany']\n"
       ]
      }
     ],
     "prompt_number": 165
    },
    {
     "cell_type": "code",
     "collapsed": false,
     "input": [
      "import csv"
     ],
     "language": "python",
     "metadata": {},
     "outputs": [],
     "prompt_number": 118
    },
    {
     "cell_type": "code",
     "collapsed": false,
     "input": [
      "myfig = plt.figure()\n",
      "canvas = myfig.add_subplot(111)\n",
      "canvas.set_title('Protein consumption from White meat in European countries' ,fontstyle='oblique' )\n",
      "canvas.set_xlabel('Country')\n",
      "canvas.set_ylabel('White meat')\n",
      "asf = range(0,24)\n",
      "canvas.bar(asf, whiteMeat, width = 0.5, facecolor='yellow', linewidth=2.5)\n",
      "xtickmarks = [\"\", \"Albania\", \"\", \"Austria\", \"\", \"large\"]\n",
      "l = ax2.set_xticklabels(xtickmarks)\n",
      "canvas.set_xticks(asf)\n",
      "canvas.set_xticklabels(country , fontstyle= 'oblique' )\n",
      "myfig.autofmt_xdate()\n",
      "myfig.savefig(\"my_protein_data.png\")"
     ],
     "language": "python",
     "metadata": {},
     "outputs": [
      {
       "ename": "NameError",
       "evalue": "name 'ax2' is not defined",
       "output_type": "pyerr",
       "traceback": [
        "\u001b[1;31m---------------------------------------------------------------------------\u001b[0m\n\u001b[1;31mNameError\u001b[0m                                 Traceback (most recent call last)",
        "\u001b[1;32m<ipython-input-164-3772253d6d06>\u001b[0m in \u001b[0;36m<module>\u001b[1;34m()\u001b[0m\n\u001b[0;32m      7\u001b[0m \u001b[0mcanvas\u001b[0m\u001b[1;33m.\u001b[0m\u001b[0mbar\u001b[0m\u001b[1;33m(\u001b[0m\u001b[0masf\u001b[0m\u001b[1;33m,\u001b[0m \u001b[0mwhiteMeat\u001b[0m\u001b[1;33m,\u001b[0m \u001b[0mwidth\u001b[0m \u001b[1;33m=\u001b[0m \u001b[1;36m0.5\u001b[0m\u001b[1;33m,\u001b[0m \u001b[0mfacecolor\u001b[0m\u001b[1;33m=\u001b[0m\u001b[1;34m'yellow'\u001b[0m\u001b[1;33m,\u001b[0m \u001b[0mlinewidth\u001b[0m\u001b[1;33m=\u001b[0m\u001b[1;36m2.5\u001b[0m\u001b[1;33m)\u001b[0m\u001b[1;33m\u001b[0m\u001b[0m\n\u001b[0;32m      8\u001b[0m \u001b[0mxtickmarks\u001b[0m \u001b[1;33m=\u001b[0m \u001b[1;33m[\u001b[0m\u001b[1;34m\"\"\u001b[0m\u001b[1;33m,\u001b[0m \u001b[1;34m\"small\"\u001b[0m\u001b[1;33m,\u001b[0m \u001b[1;34m\"\"\u001b[0m\u001b[1;33m,\u001b[0m \u001b[1;34m\"medium\"\u001b[0m\u001b[1;33m,\u001b[0m \u001b[1;34m\"\"\u001b[0m\u001b[1;33m,\u001b[0m \u001b[1;34m\"large\"\u001b[0m\u001b[1;33m]\u001b[0m\u001b[1;33m\u001b[0m\u001b[0m\n\u001b[1;32m----> 9\u001b[1;33m \u001b[0ml\u001b[0m \u001b[1;33m=\u001b[0m \u001b[0max2\u001b[0m\u001b[1;33m.\u001b[0m\u001b[0mset_xticklabels\u001b[0m\u001b[1;33m(\u001b[0m\u001b[0mxtickmarks\u001b[0m\u001b[1;33m)\u001b[0m\u001b[1;33m\u001b[0m\u001b[0m\n\u001b[0m\u001b[0;32m     10\u001b[0m \u001b[0mcanvas\u001b[0m\u001b[1;33m.\u001b[0m\u001b[0mset_xticks\u001b[0m\u001b[1;33m(\u001b[0m\u001b[0masf\u001b[0m\u001b[1;33m)\u001b[0m\u001b[1;33m\u001b[0m\u001b[0m\n\u001b[0;32m     11\u001b[0m \u001b[0mcanvas\u001b[0m\u001b[1;33m.\u001b[0m\u001b[0mset_xticklabels\u001b[0m\u001b[1;33m(\u001b[0m\u001b[0mcountry\u001b[0m \u001b[1;33m,\u001b[0m \u001b[0mfontstyle\u001b[0m\u001b[1;33m=\u001b[0m \u001b[1;34m'oblique'\u001b[0m \u001b[1;33m)\u001b[0m\u001b[1;33m\u001b[0m\u001b[0m\n",
        "\u001b[1;31mNameError\u001b[0m: name 'ax2' is not defined"
       ]
      },
      {
       "metadata": {},
       "output_type": "display_data",
       "png": "[encoded data removed]",
       "text": [
        "<matplotlib.figure.Figure at 0x995bc2c>"
       ]
      }
     ],
     "prompt_number": 164
    },
    {
     "cell_type": "raw",
     "metadata": {},
     "source": [
      "- This chart shows the consumption of protein which is taken from White meat in many European countries , and Austria takes the most protein from White meat !!!"
     ]
    }
   ],
   "metadata": {}
  }
 ]
}