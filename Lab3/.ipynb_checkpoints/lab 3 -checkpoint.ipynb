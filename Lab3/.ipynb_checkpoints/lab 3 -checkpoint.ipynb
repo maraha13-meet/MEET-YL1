{
 "metadata": {
  "name": ""
 },
 "nbformat": 3,
 "nbformat_minor": 0,
 "worksheets": [
  {
   "cells": [
    {
     "cell_type": "code",
     "collapsed": false,
     "input": [
      "import csv"
     ],
     "language": "python",
     "metadata": {},
     "outputs": [],
     "prompt_number": 1
    },
    {
     "cell_type": "code",
     "collapsed": false,
     "input": [
      "f = open('cigarettes.csv', 'rb')\n",
      "reader = csv.reader(f)\n",
      "index = 0\n",
      "for row in reader:\n",
      " if index == 0:\n",
      "   print row\n",
      " row += 1\n",
      "f.close()"
     ],
     "language": "python",
     "metadata": {},
     "outputs": [
      {
       "output_type": "stream",
       "stream": "stdout",
       "text": [
        "['Alpine \\t\\t14.1  .86  .9853  13.6']\n"
       ]
      }
     ],
     "prompt_number": 7
    }
   ],
   "metadata": {}
  }
 ]
}